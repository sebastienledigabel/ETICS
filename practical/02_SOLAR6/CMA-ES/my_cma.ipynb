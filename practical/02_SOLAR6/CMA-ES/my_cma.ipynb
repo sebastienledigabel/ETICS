{
 "cells": [
  {
   "cell_type": "code",
   "execution_count": 4,
   "metadata": {},
   "outputs": [
    {
     "name": "stdout",
     "output_type": "stream",
     "text": [
      "\u001b[33mDEPRECATION: Configuring installation scheme with distutils config files is deprecated and will no longer work in the near future. If you are using a Homebrew or Linuxbrew Python, please see discussion at https://github.com/Homebrew/homebrew-core/issues/76621\u001b[0m\u001b[33m\n",
      "\u001b[0mRequirement already satisfied: cma in /usr/local/lib/python3.9/site-packages (3.3.0)\n",
      "Requirement already satisfied: numpy in /usr/local/lib/python3.9/site-packages (from cma) (1.25.0)\n",
      "\u001b[33mDEPRECATION: Configuring installation scheme with distutils config files is deprecated and will no longer work in the near future. If you are using a Homebrew or Linuxbrew Python, please see discussion at https://github.com/Homebrew/homebrew-core/issues/76621\u001b[0m\u001b[33m\n",
      "\u001b[0mNote: you may need to restart the kernel to use updated packages.\n"
     ]
    }
   ],
   "source": [
    "%pip install cma"
   ]
  },
  {
   "cell_type": "code",
   "execution_count": 5,
   "metadata": {},
   "outputs": [],
   "source": [
    "import cma\n",
    "import importlib"
   ]
  },
  {
   "cell_type": "code",
   "execution_count": 6,
   "metadata": {},
   "outputs": [
    {
     "name": "stdout",
     "output_type": "stream",
     "text": [
      "[99.8981481481, -250000000.0, 0.0, 0.0, -25.9648091402, -50.0]\n",
      "13680531.4986\n"
     ]
    }
   ],
   "source": [
    "import bb as bb # import of bb.py\n",
    "\n",
    "x=[2.275485601, 6.134672359,\t0.021091641,\t0.000115837,\t7.942507921]\n",
    "\n",
    "print(bb.c(x))\n",
    "print(bb.f(x))\n"
   ]
  },
  {
   "cell_type": "code",
   "execution_count": 7,
   "metadata": {},
   "outputs": [
    {
     "data": {
      "text/plain": [
       "<module 'cma' from '/usr/local/lib/python3.9/site-packages/cma/__init__.py'>"
      ]
     },
     "execution_count": 7,
     "metadata": {},
     "output_type": "execute_result"
    }
   ],
   "source": [
    "importlib.reload(bb)\n",
    "importlib.reload(cma)"
   ]
  },
  {
   "cell_type": "code",
   "execution_count": 8,
   "metadata": {},
   "outputs": [
    {
     "data": {
      "text/plain": [
       "{'seed': 'time  # random number seed for `numpy.random`; `None` and `0` equate to `time`, `np.nan` means \"do nothing\", see also option \"randn\"'}"
      ]
     },
     "execution_count": 8,
     "metadata": {},
     "output_type": "execute_result"
    }
   ],
   "source": [
    "cma.CMAOptions('seed') # help on the options, by keyword\n"
   ]
  },
  {
   "cell_type": "code",
   "execution_count": 16,
   "metadata": {},
   "outputs": [
    {
     "name": "stdout",
     "output_type": "stream",
     "text": [
      "(4_w,8)-aCMA-ES (mu_w=2.6,w_1=52%) in dimension 5 (seed=1, Wed Jul  5 22:20:43 2023)\n",
      "Iterat #Fevals   function value  axis ratio  sigma  min&max std  t[m:s]\n",
      "    1      8 1.165143041370000e+07 1.0e+00 1.09e+00  1e+00  1e+00 0:42.7\n"
     ]
    },
    {
     "name": "stderr",
     "output_type": "stream",
     "text": [
      "/usr/local/lib/python3.9/site-packages/cma/constraints_handler.py:1001: UserWarning: iqr(f), iqr(G), iqr(G**2)) == 9.999999999998193e+19, [0. 0. 0. 0. 0. 0.], [0. 0. 0. 0. 0. 0.]\n",
      "  _warnings.warn(\"iqr(f), iqr(G), iqr(G**2)) == %s, %s, %s\" % (str(df), str(dG), str(dG2)))\n"
     ]
    }
   ],
   "source": [
    "\n",
    "importlib.reload(bb)\n",
    "#x, es = cma.fmin2(bb.f, x0=10 * [0], sigma0=1)\n",
    "x, es = cma.fmin_con2(bb.f,x0=[1.069158416,6.438916667,0.309107143,1.304803607,7.393046092], sigma0=1, constraints=bb.c, options={'tolfun':0,'bounds':[0,10],'maxfevals':15,'seed':1}, restarts=999)\n"
   ]
  },
  {
   "cell_type": "code",
   "execution_count": 10,
   "metadata": {},
   "outputs": [
    {
     "data": {
      "text/plain": [
       "array([2.21075285e+00, 5.08517595e+00, 7.69693421e-03, 1.04506556e+00,\n",
       "       8.33681965e+00])"
      ]
     },
     "execution_count": 10,
     "metadata": {},
     "output_type": "execute_result"
    }
   ],
   "source": [
    "es.result.xfavorite\n",
    "\n"
   ]
  },
  {
   "cell_type": "code",
   "execution_count": 15,
   "metadata": {},
   "outputs": [
    {
     "data": {
      "text/plain": [
       "{'f': inf,\n",
       " 'x': None,\n",
       " 'info': None,\n",
       " 'count_saved': None,\n",
       " 'count': 0,\n",
       " 'previous': None}"
      ]
     },
     "execution_count": 15,
     "metadata": {},
     "output_type": "execute_result"
    }
   ],
   "source": [
    "es.best_feasible.__dict__"
   ]
  },
  {
   "cell_type": "code",
   "execution_count": 14,
   "metadata": {},
   "outputs": [
    {
     "name": "stdout",
     "output_type": "stream",
     "text": [
      "nothing to plot\n"
     ]
    },
    {
     "data": {
      "text/plain": [
       "<cma.logger.CMADataLogger at 0x15a82e5b0>"
      ]
     },
     "execution_count": 14,
     "metadata": {},
     "output_type": "execute_result"
    }
   ],
   "source": [
    "cma.plot()\n"
   ]
  },
  {
   "cell_type": "code",
   "execution_count": 13,
   "metadata": {},
   "outputs": [
    {
     "name": "stdout",
     "output_type": "stream",
     "text": [
      "% # columns=\"iteration, evaluation, sigma, axis ratio, bestever, best, median, worst objective function value, further objective values of best\", seed=1, Wed Jul  5 22:10:32 2023, <python>{}</python>\n",
      "1 8 1.0883765318301928 1.0000400008000108 11651430.4137 1.1651430413699999e+07 1e+20 1e+20 89.9025405504 1.5848931924611136  \n"
     ]
    }
   ],
   "source": [
    "%less outcmaes/fit.dat"
   ]
  }
 ],
 "metadata": {
  "kernelspec": {
   "display_name": "Python 3",
   "language": "python",
   "name": "python3"
  },
  "language_info": {
   "codemirror_mode": {
    "name": "ipython",
    "version": 3
   },
   "file_extension": ".py",
   "mimetype": "text/x-python",
   "name": "python",
   "nbconvert_exporter": "python",
   "pygments_lexer": "ipython3",
   "version": "3.9.10"
  },
  "orig_nbformat": 4
 },
 "nbformat": 4,
 "nbformat_minor": 2
}
